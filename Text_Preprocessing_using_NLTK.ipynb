{
  "cells": [
    {
      "cell_type": "code",
      "source": [
        "--import nltk\n",
        "nltk.download('all')"
      ],
      "metadata": {
        "id": "QYx_IHIQnKtm"
      },
      "id": "QYx_IHIQnKtm",
      "execution_count": null,
      "outputs": []
    },
    {
      "cell_type": "code",
      "execution_count": null,
      "id": "bf871ee0-9dba-4ee3-901e-01b50a3508d0",
      "metadata": {
        "id": "bf871ee0-9dba-4ee3-901e-01b50a3508d0"
      },
      "outputs": [],
      "source": [
        "text = 'The quick brown fox jumps over the lazy dog While the dog sleeps the fox quickly runs to the nearby forest'"
      ]
    },
    {
      "cell_type": "markdown",
      "source": [
        "# Word Tokenize"
      ],
      "metadata": {
        "id": "0UvLWGOJmlGa"
      },
      "id": "0UvLWGOJmlGa"
    },
    {
      "cell_type": "code",
      "source": [
        "from nltk.tokenize import word_tokenize\n",
        "nltk_tokens = word_tokenize(text)\n",
        "print('Tokens:')\n",
        "print(nltk_tokens)"
      ],
      "metadata": {
        "colab": {
          "base_uri": "https://localhost:8080/"
        },
        "id": "Xa8d_OYZmdqb",
        "outputId": "f796df07-8921-4862-f069-078ca0f9c462"
      },
      "id": "Xa8d_OYZmdqb",
      "execution_count": null,
      "outputs": [
        {
          "output_type": "stream",
          "name": "stdout",
          "text": [
            "Tokens:\n",
            "['The', 'quick', 'brown', 'fox', 'jumps', 'over', 'the', 'lazy', 'dog', 'While', 'the', 'dog', 'sleeps', 'the', 'fox', 'quickly', 'runs', 'to', 'the', 'nearby', 'forest']\n"
          ]
        }
      ]
    },
    {
      "cell_type": "markdown",
      "source": [
        "# Pos Tagging"
      ],
      "metadata": {
        "id": "_3wKBaV-mvtV"
      },
      "id": "_3wKBaV-mvtV"
    },
    {
      "cell_type": "code",
      "source": [
        "from nltk import pos_tag\n",
        "\n",
        "print('Pos Tags:')\n",
        "print(pos_tag(nltk_tokens))"
      ],
      "metadata": {
        "colab": {
          "base_uri": "https://localhost:8080/"
        },
        "id": "6ffPO8xSmzZG",
        "outputId": "0e243c7b-07fd-4f28-e5a6-dac5f7545be5"
      },
      "id": "6ffPO8xSmzZG",
      "execution_count": null,
      "outputs": [
        {
          "output_type": "stream",
          "name": "stdout",
          "text": [
            "Pos Tags:\n",
            "[('The', 'DT'), ('quick', 'JJ'), ('brown', 'NN'), ('fox', 'NN'), ('jumps', 'VBZ'), ('over', 'IN'), ('the', 'DT'), ('lazy', 'JJ'), ('dog', 'NN'), ('While', 'IN'), ('the', 'DT'), ('dog', 'NN'), ('sleeps', 'VBZ'), ('the', 'DT'), ('fox', 'JJ'), ('quickly', 'RB'), ('runs', 'VBZ'), ('to', 'TO'), ('the', 'DT'), ('nearby', 'JJ'), ('forest', 'NN')]\n"
          ]
        }
      ]
    },
    {
      "cell_type": "markdown",
      "id": "1e50bba1-7bd5-4345-b75c-94d239da2099",
      "metadata": {
        "id": "1e50bba1-7bd5-4345-b75c-94d239da2099"
      },
      "source": [
        "# Stop Words Removal"
      ]
    },
    {
      "cell_type": "code",
      "execution_count": null,
      "id": "61cc2f39-965d-4b33-875b-3e296ba11176",
      "metadata": {
        "colab": {
          "base_uri": "https://localhost:8080/"
        },
        "id": "61cc2f39-965d-4b33-875b-3e296ba11176",
        "outputId": "1ab95e6c-45b9-420c-ff3a-8f6b3bb01d61"
      },
      "outputs": [
        {
          "output_type": "execute_result",
          "data": {
            "text/plain": [
              "['The',\n",
              " 'quick',\n",
              " 'brown',\n",
              " 'fox',\n",
              " 'jumps',\n",
              " 'lazy',\n",
              " 'dog',\n",
              " 'While',\n",
              " 'dog',\n",
              " 'sleeps',\n",
              " 'fox',\n",
              " 'quickly',\n",
              " 'runs',\n",
              " 'nearby',\n",
              " 'forest']"
            ]
          },
          "metadata": {},
          "execution_count": 10
        }
      ],
      "source": [
        "from nltk.corpus import stopwords\n",
        "\n",
        "stop_words = stopwords.words('english')\n",
        "filtered_words = [word for word in nltk_tokens if word not in stop_words]\n",
        "filtered_words"
      ]
    },
    {
      "cell_type": "markdown",
      "id": "5ddfa889-82e5-43af-87ce-52c8c77e90ee",
      "metadata": {
        "id": "5ddfa889-82e5-43af-87ce-52c8c77e90ee"
      },
      "source": [
        "# Stemming"
      ]
    },
    {
      "cell_type": "code",
      "execution_count": null,
      "id": "d4c44256-5a50-4013-b24f-c5dc4bd4f907",
      "metadata": {
        "id": "d4c44256-5a50-4013-b24f-c5dc4bd4f907",
        "outputId": "777b1437-06af-49cf-bb20-de169a6e2392"
      },
      "outputs": [
        {
          "data": {
            "text/plain": [
              "'quick brown fox jump lazi dog dog sleep fox quickli run nearbi forest'"
            ]
          },
          "execution_count": 33,
          "metadata": {},
          "output_type": "execute_result"
        }
      ],
      "source": [
        "from nltk import PorterStemmer\n",
        "\n",
        "stemmed_text = ' '.join([PorterStemmer().stem(word) for word in text_without_sw.split(' ')])\n",
        "stemmed_text"
      ]
    },
    {
      "cell_type": "code",
      "execution_count": null,
      "id": "62175193-caec-4633-a70d-d7c754c33099",
      "metadata": {
        "id": "62175193-caec-4633-a70d-d7c754c33099"
      },
      "outputs": [],
      "source": []
    }
  ],
  "metadata": {
    "kernelspec": {
      "display_name": "Python 3 (ipykernel)",
      "language": "python",
      "name": "python3"
    },
    "language_info": {
      "codemirror_mode": {
        "name": "ipython",
        "version": 3
      },
      "file_extension": ".py",
      "mimetype": "text/x-python",
      "name": "python",
      "nbconvert_exporter": "python",
      "pygments_lexer": "ipython3",
      "version": "3.12.1"
    },
    "colab": {
      "provenance": []
    }
  },
  "nbformat": 4,
  "nbformat_minor": 5
}